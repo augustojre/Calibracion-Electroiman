{
 "cells": [
  {
   "cell_type": "code",
   "execution_count": 1,
   "metadata": {},
   "outputs": [
    {
     "name": "stdout",
     "output_type": "stream",
     "text": [
      "Using matplotlib backend: Qt5Agg\n"
     ]
    }
   ],
   "source": [
    "import pandas as pd\n",
    "from sklearn.linear_model import LinearRegression\n",
    "from sklearn.preprocessing import PolynomialFeatures\n",
    "import numpy as np\n",
    "from matplotlib import pyplot as plt\n",
    "%matplotlib"
   ]
  },
  {
   "cell_type": "code",
   "execution_count": 6,
   "metadata": {},
   "outputs": [
    {
     "name": "stdout",
     "output_type": "stream",
     "text": [
      "selecciona rango del ajuste (0 - 9.5 V)\n",
      "5\n",
      "selecciona distancia entre nucleos. Multiplos de 0.5 ente 3.5 y 8.5 cm\n",
      "5\n",
      "selecciona grado del polinomio\n",
      "5\n",
      "Directorio de trabajo (para leer y guardar archivos)\n",
      "C:\\Users\\Usuario\\Documents\\FePt_BTO\\Transporte CAC\\YAG340_BTO\\11-04\n",
      "Para aplicar la calibración a una medición escriba 1, caso contrario otro entero\n",
      "5\n"
     ]
    },
    {
     "ename": "ValueError",
     "evalue": "Cannot set a frame with no defined index and a value that cannot be converted to a Series",
     "output_type": "error",
     "traceback": [
      "\u001b[1;31m---------------------------------------------------------------------------\u001b[0m",
      "\u001b[1;31mValueError\u001b[0m                                Traceback (most recent call last)",
      "\u001b[1;32m~\\Anaconda3\\lib\\site-packages\\pandas\\core\\common.py\u001b[0m in \u001b[0;36m_asarray_tuplesafe\u001b[1;34m(values, dtype)\u001b[0m\n\u001b[0;32m    398\u001b[0m                 \u001b[0mresult\u001b[0m \u001b[1;33m=\u001b[0m \u001b[0mnp\u001b[0m\u001b[1;33m.\u001b[0m\u001b[0mempty\u001b[0m\u001b[1;33m(\u001b[0m\u001b[0mlen\u001b[0m\u001b[1;33m(\u001b[0m\u001b[0mvalues\u001b[0m\u001b[1;33m)\u001b[0m\u001b[1;33m,\u001b[0m \u001b[0mdtype\u001b[0m\u001b[1;33m=\u001b[0m\u001b[0mobject\u001b[0m\u001b[1;33m)\u001b[0m\u001b[1;33m\u001b[0m\u001b[0m\n\u001b[1;32m--> 399\u001b[1;33m                 \u001b[0mresult\u001b[0m\u001b[1;33m[\u001b[0m\u001b[1;33m:\u001b[0m\u001b[1;33m]\u001b[0m \u001b[1;33m=\u001b[0m \u001b[0mvalues\u001b[0m\u001b[1;33m\u001b[0m\u001b[0m\n\u001b[0m\u001b[0;32m    400\u001b[0m             \u001b[1;32mexcept\u001b[0m \u001b[0mValueError\u001b[0m\u001b[1;33m:\u001b[0m\u001b[1;33m\u001b[0m\u001b[0m\n",
      "\u001b[1;31mValueError\u001b[0m: could not broadcast input array from shape (38,1) into shape (38)",
      "\nDuring handling of the above exception, another exception occurred:\n",
      "\u001b[1;31mTypeError\u001b[0m                                 Traceback (most recent call last)",
      "\u001b[1;32m~\\Anaconda3\\lib\\site-packages\\pandas\\core\\frame.py\u001b[0m in \u001b[0;36m_ensure_valid_index\u001b[1;34m(self, value)\u001b[0m\n\u001b[0;32m   2563\u001b[0m             \u001b[1;32mtry\u001b[0m\u001b[1;33m:\u001b[0m\u001b[1;33m\u001b[0m\u001b[0m\n\u001b[1;32m-> 2564\u001b[1;33m                 \u001b[0mvalue\u001b[0m \u001b[1;33m=\u001b[0m \u001b[0mSeries\u001b[0m\u001b[1;33m(\u001b[0m\u001b[0mvalue\u001b[0m\u001b[1;33m)\u001b[0m\u001b[1;33m\u001b[0m\u001b[0m\n\u001b[0m\u001b[0;32m   2565\u001b[0m             \u001b[1;32mexcept\u001b[0m\u001b[1;33m:\u001b[0m\u001b[1;33m\u001b[0m\u001b[0m\n",
      "\u001b[1;32m~\\Anaconda3\\lib\\site-packages\\pandas\\core\\series.py\u001b[0m in \u001b[0;36m__init__\u001b[1;34m(self, data, index, dtype, name, copy, fastpath)\u001b[0m\n\u001b[0;32m    263\u001b[0m                 data = _sanitize_array(data, index, dtype, copy,\n\u001b[1;32m--> 264\u001b[1;33m                                        raise_cast_failure=True)\n\u001b[0m\u001b[0;32m    265\u001b[0m \u001b[1;33m\u001b[0m\u001b[0m\n",
      "\u001b[1;32m~\\Anaconda3\\lib\\site-packages\\pandas\\core\\series.py\u001b[0m in \u001b[0;36m_sanitize_array\u001b[1;34m(data, index, dtype, copy, raise_cast_failure)\u001b[0m\n\u001b[0;32m   3276\u001b[0m         \u001b[1;32melse\u001b[0m\u001b[1;33m:\u001b[0m\u001b[1;33m\u001b[0m\u001b[0m\n\u001b[1;32m-> 3277\u001b[1;33m             \u001b[0msubarr\u001b[0m \u001b[1;33m=\u001b[0m \u001b[0m_asarray_tuplesafe\u001b[0m\u001b[1;33m(\u001b[0m\u001b[0mdata\u001b[0m\u001b[1;33m,\u001b[0m \u001b[0mdtype\u001b[0m\u001b[1;33m=\u001b[0m\u001b[0mdtype\u001b[0m\u001b[1;33m)\u001b[0m\u001b[1;33m\u001b[0m\u001b[0m\n\u001b[0m\u001b[0;32m   3278\u001b[0m \u001b[1;33m\u001b[0m\u001b[0m\n",
      "\u001b[1;32m~\\Anaconda3\\lib\\site-packages\\pandas\\core\\common.py\u001b[0m in \u001b[0;36m_asarray_tuplesafe\u001b[1;34m(values, dtype)\u001b[0m\n\u001b[0;32m    401\u001b[0m                 \u001b[1;31m# we have a list-of-list\u001b[0m\u001b[1;33m\u001b[0m\u001b[1;33m\u001b[0m\u001b[0m\n\u001b[1;32m--> 402\u001b[1;33m                 \u001b[0mresult\u001b[0m\u001b[1;33m[\u001b[0m\u001b[1;33m:\u001b[0m\u001b[1;33m]\u001b[0m \u001b[1;33m=\u001b[0m \u001b[1;33m[\u001b[0m\u001b[0mtuple\u001b[0m\u001b[1;33m(\u001b[0m\u001b[0mx\u001b[0m\u001b[1;33m)\u001b[0m \u001b[1;32mfor\u001b[0m \u001b[0mx\u001b[0m \u001b[1;32min\u001b[0m \u001b[0mvalues\u001b[0m\u001b[1;33m]\u001b[0m\u001b[1;33m\u001b[0m\u001b[0m\n\u001b[0m\u001b[0;32m    403\u001b[0m \u001b[1;33m\u001b[0m\u001b[0m\n",
      "\u001b[1;32m~\\Anaconda3\\lib\\site-packages\\pandas\\core\\common.py\u001b[0m in \u001b[0;36m<listcomp>\u001b[1;34m(.0)\u001b[0m\n\u001b[0;32m    401\u001b[0m                 \u001b[1;31m# we have a list-of-list\u001b[0m\u001b[1;33m\u001b[0m\u001b[1;33m\u001b[0m\u001b[0m\n\u001b[1;32m--> 402\u001b[1;33m                 \u001b[0mresult\u001b[0m\u001b[1;33m[\u001b[0m\u001b[1;33m:\u001b[0m\u001b[1;33m]\u001b[0m \u001b[1;33m=\u001b[0m \u001b[1;33m[\u001b[0m\u001b[0mtuple\u001b[0m\u001b[1;33m(\u001b[0m\u001b[0mx\u001b[0m\u001b[1;33m)\u001b[0m \u001b[1;32mfor\u001b[0m \u001b[0mx\u001b[0m \u001b[1;32min\u001b[0m \u001b[0mvalues\u001b[0m\u001b[1;33m]\u001b[0m\u001b[1;33m\u001b[0m\u001b[0m\n\u001b[0m\u001b[0;32m    403\u001b[0m \u001b[1;33m\u001b[0m\u001b[0m\n",
      "\u001b[1;31mTypeError\u001b[0m: 'int' object is not iterable",
      "\nDuring handling of the above exception, another exception occurred:\n",
      "\u001b[1;31mValueError\u001b[0m                                Traceback (most recent call last)",
      "\u001b[1;32m<ipython-input-6-314c720b5071>\u001b[0m in \u001b[0;36m<module>\u001b[1;34m()\u001b[0m\n\u001b[0;32m     40\u001b[0m \u001b[0mDelta\u001b[0m\u001b[1;33m=\u001b[0m\u001b[0mY\u001b[0m\u001b[1;33m-\u001b[0m\u001b[0mY_test\u001b[0m\u001b[1;33m\u001b[0m\u001b[0m\n\u001b[0;32m     41\u001b[0m \u001b[0mDF_Delta\u001b[0m\u001b[1;33m=\u001b[0m\u001b[0mpd\u001b[0m\u001b[1;33m.\u001b[0m\u001b[0mDataFrame\u001b[0m\u001b[1;33m(\u001b[0m\u001b[1;33m)\u001b[0m\u001b[1;33m\u001b[0m\u001b[0m\n\u001b[1;32m---> 42\u001b[1;33m \u001b[0mDF_Delta\u001b[0m\u001b[1;33m[\u001b[0m\u001b[1;34m'Voltage(V)'\u001b[0m\u001b[1;33m]\u001b[0m\u001b[1;33m=\u001b[0m\u001b[0mpd\u001b[0m\u001b[1;33m.\u001b[0m\u001b[0mDataFrame\u001b[0m\u001b[1;33m(\u001b[0m\u001b[0mX\u001b[0m\u001b[1;33m)\u001b[0m\u001b[1;33m\u001b[0m\u001b[0m\n\u001b[0m\u001b[0;32m     43\u001b[0m \u001b[0mDF_Delta\u001b[0m\u001b[1;33m[\u001b[0m\u001b[1;34m'Field(G)'\u001b[0m\u001b[1;33m]\u001b[0m\u001b[1;33m=\u001b[0m\u001b[0mpd\u001b[0m\u001b[1;33m.\u001b[0m\u001b[0mDataFrame\u001b[0m\u001b[1;33m(\u001b[0m\u001b[0mDelta\u001b[0m\u001b[1;33m)\u001b[0m\u001b[1;33m\u001b[0m\u001b[0m\n\u001b[0;32m     44\u001b[0m \u001b[0mDF_Delta_rango\u001b[0m\u001b[1;33m=\u001b[0m\u001b[0mDF_Delta\u001b[0m\u001b[1;33m[\u001b[0m\u001b[1;33m(\u001b[0m\u001b[0mDF_Delta\u001b[0m\u001b[1;33m[\u001b[0m\u001b[1;34m'Voltage(V)'\u001b[0m\u001b[1;33m]\u001b[0m\u001b[1;33m<=\u001b[0m\u001b[0mrango_ajuste\u001b[0m\u001b[1;33m)\u001b[0m \u001b[1;33m&\u001b[0m \u001b[1;33m(\u001b[0m\u001b[0mDF_Delta\u001b[0m\u001b[1;33m[\u001b[0m\u001b[1;34m'Voltage(V)'\u001b[0m\u001b[1;33m]\u001b[0m\u001b[1;33m>=\u001b[0m\u001b[1;33m-\u001b[0m\u001b[0mrango_ajuste\u001b[0m\u001b[1;33m)\u001b[0m\u001b[1;33m]\u001b[0m\u001b[1;33m\u001b[0m\u001b[0m\n",
      "\u001b[1;32m~\\Anaconda3\\lib\\site-packages\\pandas\\core\\frame.py\u001b[0m in \u001b[0;36m__setitem__\u001b[1;34m(self, key, value)\u001b[0m\n\u001b[0;32m   2517\u001b[0m         \u001b[1;32melse\u001b[0m\u001b[1;33m:\u001b[0m\u001b[1;33m\u001b[0m\u001b[0m\n\u001b[0;32m   2518\u001b[0m             \u001b[1;31m# set column\u001b[0m\u001b[1;33m\u001b[0m\u001b[1;33m\u001b[0m\u001b[0m\n\u001b[1;32m-> 2519\u001b[1;33m             \u001b[0mself\u001b[0m\u001b[1;33m.\u001b[0m\u001b[0m_set_item\u001b[0m\u001b[1;33m(\u001b[0m\u001b[0mkey\u001b[0m\u001b[1;33m,\u001b[0m \u001b[0mvalue\u001b[0m\u001b[1;33m)\u001b[0m\u001b[1;33m\u001b[0m\u001b[0m\n\u001b[0m\u001b[0;32m   2520\u001b[0m \u001b[1;33m\u001b[0m\u001b[0m\n\u001b[0;32m   2521\u001b[0m     \u001b[1;32mdef\u001b[0m \u001b[0m_setitem_slice\u001b[0m\u001b[1;33m(\u001b[0m\u001b[0mself\u001b[0m\u001b[1;33m,\u001b[0m \u001b[0mkey\u001b[0m\u001b[1;33m,\u001b[0m \u001b[0mvalue\u001b[0m\u001b[1;33m)\u001b[0m\u001b[1;33m:\u001b[0m\u001b[1;33m\u001b[0m\u001b[0m\n",
      "\u001b[1;32m~\\Anaconda3\\lib\\site-packages\\pandas\\core\\frame.py\u001b[0m in \u001b[0;36m_set_item\u001b[1;34m(self, key, value)\u001b[0m\n\u001b[0;32m   2582\u001b[0m         \"\"\"\n\u001b[0;32m   2583\u001b[0m \u001b[1;33m\u001b[0m\u001b[0m\n\u001b[1;32m-> 2584\u001b[1;33m         \u001b[0mself\u001b[0m\u001b[1;33m.\u001b[0m\u001b[0m_ensure_valid_index\u001b[0m\u001b[1;33m(\u001b[0m\u001b[0mvalue\u001b[0m\u001b[1;33m)\u001b[0m\u001b[1;33m\u001b[0m\u001b[0m\n\u001b[0m\u001b[0;32m   2585\u001b[0m         \u001b[0mvalue\u001b[0m \u001b[1;33m=\u001b[0m \u001b[0mself\u001b[0m\u001b[1;33m.\u001b[0m\u001b[0m_sanitize_column\u001b[0m\u001b[1;33m(\u001b[0m\u001b[0mkey\u001b[0m\u001b[1;33m,\u001b[0m \u001b[0mvalue\u001b[0m\u001b[1;33m)\u001b[0m\u001b[1;33m\u001b[0m\u001b[0m\n\u001b[0;32m   2586\u001b[0m         \u001b[0mNDFrame\u001b[0m\u001b[1;33m.\u001b[0m\u001b[0m_set_item\u001b[0m\u001b[1;33m(\u001b[0m\u001b[0mself\u001b[0m\u001b[1;33m,\u001b[0m \u001b[0mkey\u001b[0m\u001b[1;33m,\u001b[0m \u001b[0mvalue\u001b[0m\u001b[1;33m)\u001b[0m\u001b[1;33m\u001b[0m\u001b[0m\n",
      "\u001b[1;32m~\\Anaconda3\\lib\\site-packages\\pandas\\core\\frame.py\u001b[0m in \u001b[0;36m_ensure_valid_index\u001b[1;34m(self, value)\u001b[0m\n\u001b[0;32m   2564\u001b[0m                 \u001b[0mvalue\u001b[0m \u001b[1;33m=\u001b[0m \u001b[0mSeries\u001b[0m\u001b[1;33m(\u001b[0m\u001b[0mvalue\u001b[0m\u001b[1;33m)\u001b[0m\u001b[1;33m\u001b[0m\u001b[0m\n\u001b[0;32m   2565\u001b[0m             \u001b[1;32mexcept\u001b[0m\u001b[1;33m:\u001b[0m\u001b[1;33m\u001b[0m\u001b[0m\n\u001b[1;32m-> 2566\u001b[1;33m                 raise ValueError('Cannot set a frame with no defined index '\n\u001b[0m\u001b[0;32m   2567\u001b[0m                                  \u001b[1;34m'and a value that cannot be converted to a '\u001b[0m\u001b[1;33m\u001b[0m\u001b[0m\n\u001b[0;32m   2568\u001b[0m                                  'Series')\n",
      "\u001b[1;31mValueError\u001b[0m: Cannot set a frame with no defined index and a value that cannot be converted to a Series"
     ]
    }
   ],
   "source": [
    "#Seleccionar voltaje máximo utilizada y distancia entre nucleos\n",
    "print('selecciona rango del ajuste (0 - 9.5 V)')\n",
    "rango_ajuste=float(input())\n",
    "print('selecciona distancia entre nucleos. Multiplos de 0.5 ente 3.5 y 8.5 cm')\n",
    "distancia_nucleos=float(input())\n",
    "print('selecciona grado del polinomio')\n",
    "grado_poly=int(input())\n",
    "print('Directorio de trabajo (para leer y guardar archivos)')\n",
    "directorio_medicion=str(input())#str('D:\\FePt_BTO\\Transporte\\MEDIDAS CAC\\YAG340-343\\YAG340_BTO')\n",
    "print('Para aplicar la calibración a una medición escriba 1, caso contrario otro entero')\n",
    "control=int(input())\n",
    "\n",
    "#abro archivo de medición\n",
    "if control==1:\n",
    "    \n",
    "    print('Nombre del archivo de la medición')\n",
    "    archivo_medicion=str(input())#str('YAG340_BTO_0deg_sinP_200um_Hmax8.dat')\n",
    "    abrir=directorio_medicion+'/'+archivo_medicion\n",
    "    medicion=pd.read_csv(abrir)\n",
    "\n",
    "#abro archivo caklibracion\n",
    "d_str=str(\"%.1f\"%float(distancia_nucleos))\n",
    "archivo=str('20221014_'+d_str+'cm.dat')\n",
    "prueba=pd.read_csv(archivo)\n",
    "prueba_train=prueba[(prueba['Voltage(V)']<=rango_ajuste) & (prueba['Voltage(V)']>=-rango_ajuste)]\n",
    "prueba_train.columns=['Voltage(V)','Field(G)']\n",
    "\n",
    "X=-prueba['Voltage(V)'].values.reshape(-1,1)#to_numpy().reshape(-1,1)#\n",
    "Y=prueba['Field(G)'].values.reshape(-1,1)#to_numpy().reshape(-1,1)#values.reshape(-1,1)\n",
    "\n",
    "#ajuste lineal\n",
    "X_train=-prueba_train['Voltage(V)'].values.reshape(-1,1)#to_numpy().reshape(-1,1)#values.reshape(-1,1)\n",
    "Y_train=prueba_train['Field(G)'].values.reshape(-1,1)#to_numpy().reshape(-1,1)#values.reshape(-1,1)\n",
    "X_test=-prueba['Voltage(V)'].values.reshape(-1,1)#to_numpy().reshape(-1,1)#values.reshape(-1,1)\n",
    "calibracion_lineal = LinearRegression()\n",
    "calibracion_lineal.fit(X_train,Y_train)\n",
    "Y_test=calibracion_lineal.predict(X_test)\n",
    "\n",
    "#calculo error del ajuste\n",
    "Delta=Y-Y_test\n",
    "DF_Delta=pd.DataFrame()\n",
    "DF_Delta['Voltage(V)']=pd.DataFrame(X)\n",
    "DF_Delta['Field(G)']=pd.DataFrame(Delta)\n",
    "DF_Delta_rango=DF_Delta[(DF_Delta['Voltage(V)']<=rango_ajuste) & (DF_Delta['Voltage(V)']>=-rango_ajuste)]\n",
    "error=DF_Delta_rango['Field(G)'].max()\n",
    "\n",
    "#Ajuste polinomio para calibración\n",
    "calibracion_poly=np.polyfit(X_train[:,0],Y_train[:,0],grado_poly)\n",
    "\n",
    "#Error calibracion polinomio\n",
    "p=np.poly1d(calibracion_poly)\n",
    "Delta_poly=Y-p(X_test)\n",
    "DF_Delta_poly=pd.DataFrame()\n",
    "DF_Delta_poly['Voltage(V)']=pd.DataFrame(X)\n",
    "DF_Delta_poly['Field(G)']=pd.DataFrame(Delta_poly)\n",
    "DF_Delta_poly_rango=DF_Delta_poly[(DF_Delta_poly['Voltage(V)']<=rango_ajuste) & (DF_Delta_poly['Voltage(V)']>=-rango_ajuste)]\n",
    "error_poly=DF_Delta_poly_rango['Field(G)'].max()\n",
    "\n",
    "#Mostrar calibración\n",
    "pendiente=calibracion_lineal.coef_\n",
    "ordenada=calibracion_lineal.intercept_\n",
    "print('Ajuste lineal')\n",
    "print(\"%.4f\" % float(pendiente),'x +',\"%.0f\"% float(ordenada),)\n",
    "print('Error en el rango seleccionado:',\"%.0f\"% error,'Oe')\n",
    "print()\n",
    "print('Polinomio:')\n",
    "print(np.poly1d(calibracion_poly))\n",
    "print('Error polinomio:', \"%.0f\"% float(error_poly), 'Oe')\n",
    "print()\n",
    "print('Campo máximo para',distancia_nucleos,'cm:', float(max(Y)),'Oe')\n",
    "AjusteLineal={'Pendiente (Oe/V)':[float(pendiente)], 'Ordenada (Oe)':[float(ordenada)]}\n",
    "\n",
    "#Guardar calibración Lineal\n",
    "DF_AjusteLineal=pd.DataFrame(AjusteLineal)\n",
    "if control==1:\n",
    "    archivo_calibracion_lineal=directorio_medicion+'/'+'CalibracionLineal_'+archivo_medicion\n",
    "else:\n",
    "    archivo_calibracion_lineal=directorio_medicion+'/'+'CalibracionLineal_'+'d='+str(distancia_nucleos)+'cm_'+'hasta'+str(rango_ajuste)+'V.dat'\n",
    "DF_AjusteLineal.to_csv(archivo_calibracion_lineal)\n",
    "\n",
    "#Guardar calibración Polinomio\n",
    "Polinomio=pd.DataFrame(calibracion_poly)\n",
    "if control==1:\n",
    "    archivo_calibracion_polinomio=directorio_medicion+'/'+'CalibracionPolinomio_'+archivo_medicion\n",
    "else:\n",
    "    archivo_calibracion_polinomio=directorio_medicion+'/'+'CalibracionPolinomio_'+'d='+str(distancia_nucleos)+'cm_'+'hasta'+str(rango_ajuste)+'V.dat'\n",
    "Polinomio.to_csv(archivo_calibracion_polinomio)\n",
    "\n",
    "#Aplico calibraciones a la medición\n",
    "if control==1:\n",
    "    X_med=medicion['Voltaje(V)'].values.reshape(-1,1)#to_numpy().reshape(-1,1)\n",
    "    Y_med_lineal=calibracion_lineal.predict(X_med)\n",
    "    Y_med_poly=p(X_med)                     \n",
    "\n",
    "#Guardo archivos calibrados \n",
    "                     #polinomio\n",
    "if control==1:\n",
    "    DF_HvsR_poly=pd.DataFrame()\n",
    "    DF_HvsR_poly['Voltaje(V)']=pd.DataFrame(X_med)\n",
    "    DF_HvsR_poly['Campo(Oe)']=pd.DataFrame(Y_med_poly)\n",
    "    DF_HvsR_poly['Resistencia(Ohm)']=pd.DataFrame(medicion['Resistencia(Ohm)'])\n",
    "    salida_poly=directorio_medicion+'/'+'V_H_R_poly'+archivo_medicion\n",
    "    DF_HvsR_poly.to_csv(salida_poly)\n",
    "                     #lineal\n",
    "    DF_HvsR_lineal=pd.DataFrame()\n",
    "    DF_HvsR_lineal['Voltaje(V)']=pd.DataFrame(X_med)\n",
    "    DF_HvsR_lineal['Campo(Oe)']=pd.DataFrame(Y_med_lineal)\n",
    "    DF_HvsR_lineal['Resistencia(Ohm)']=pd.DataFrame(medicion['Resistencia(Ohm)'])\n",
    "    salida_lineal=directorio_medicion+'/'+'V_H_R_lineal'+archivo_medicion\n",
    "    DF_HvsR_poly.to_csv(salida_lineal)\n",
    "\n",
    "plt.figure('H vs V referencia')\n",
    "plt.plot(X_test,prueba['Field(G)'].values.reshape(-1,1), label='calibración')\n",
    "plt.plot(X_test,calibracion_lineal.predict(X_test), label='lineal')\n",
    "plt.plot(X_test,np.polyval(calibracion_poly,X_test),'--', label='polinomio')\n",
    "plt.legend()\n",
    "\n",
    "plt.figure('Error de la calibracion')\n",
    "p=np.poly1d(calibracion_poly)\n",
    "plt.plot(X,Y-p(X_test),'--', label='polinomio')\n",
    "plt.plot(X,Y-calibracion_lineal.predict(X_test), label='lineal')\n",
    "plt.axvline(rango_ajuste)\n",
    "plt.axvline(-rango_ajuste)\n",
    "plt.legend()\n",
    "\n",
    "plt.figure('H vs R')\n",
    "plt.plot(Y_med_poly,medicion['Resistencia(Ohm)'])\n",
    "plt.ylabel('Resistencia (Ohm)')\n",
    "plt.xlabel('Campo (Oe)')"
   ]
  },
  {
   "cell_type": "code",
   "execution_count": null,
   "metadata": {},
   "outputs": [],
   "source": [
    "#Grafico ajuste vs calibración\n",
    "plt.figure('H vs V referencia')\n",
    "plt.plot(X_test,prueba['Field(G)'].to_numpy().reshape(-1,1), label='calibración')\n",
    "plt.plot(X_test,calibracion_lineal.predict(X_test), label='lineal')\n",
    "plt.plot(X_test,np.polyval(calibracion_poly,X_test),'--', label='polinomio')\n",
    "plt.legend()"
   ]
  },
  {
   "cell_type": "code",
   "execution_count": 454,
   "metadata": {},
   "outputs": [
    {
     "data": {
      "text/plain": [
       "<matplotlib.legend.Legend at 0x25f9d131a60>"
      ]
     },
     "execution_count": 454,
     "metadata": {},
     "output_type": "execute_result"
    }
   ],
   "source": [
    "#Grafico error\n",
    "plt.figure('Error de la calibracion')\n",
    "p=np.poly1d(calibracion_poly)\n",
    "plt.plot(X,Y-p(X_test),'--', label='polinomio')\n",
    "plt.plot(X,Y-calibracion_lineal.predict(X_test), label='lineal')\n",
    "plt.axvline(rango_ajuste)\n",
    "plt.axvline(-rango_ajuste)\n",
    "plt.legend()"
   ]
  },
  {
   "cell_type": "code",
   "execution_count": 486,
   "metadata": {},
   "outputs": [
    {
     "name": "stdout",
     "output_type": "stream",
     "text": [
      "D:\\FePt_BTO\\Transporte\\MEDIDAS CAC\\YAG340-343\\YAG340_BTO/YAG340_BTO_0deg_sinP_200um_Hmax8.dat\n",
      "     Voltaje(V)  Resistencia(Ohm)\n",
      "0          0.28         25.897879\n",
      "1          0.37         25.898593\n",
      "2          0.46         25.899701\n",
      "3          0.55         25.901188\n",
      "4          0.65         25.902968\n",
      "..          ...               ...\n",
      "429        7.60         25.893770\n",
      "430        7.69         25.893552\n",
      "431        7.78         25.893565\n",
      "432        7.87         25.893280\n",
      "433        7.96         25.893651\n",
      "\n",
      "[434 rows x 2 columns]\n"
     ]
    }
   ],
   "source": [
    "directorio_medicion=str('D:\\FePt_BTO\\Transporte\\MEDIDAS CAC\\YAG340-343\\YAG340_BTO')\n",
    "archivo_medicion=str('YAG340_BTO_0deg_sinP_200um_Hmax8.dat')\n",
    "abrir=directorio_medicion+'/'+archivo_medicion\n",
    "print(abrir)\n",
    "medicion=pd.read_csv(abrir)\n",
    "print(medicion)"
   ]
  },
  {
   "cell_type": "code",
   "execution_count": 469,
   "metadata": {},
   "outputs": [
    {
     "data": {
      "text/plain": [
       "[<matplotlib.lines.Line2D at 0x25f9e61fa90>]"
      ]
     },
     "execution_count": 469,
     "metadata": {},
     "output_type": "execute_result"
    }
   ],
   "source": [
    "plt.figure('H vs V de la medicion')\n",
    "X_med=medicion['Voltaje(V)'].to_numpy().reshape(-1,1)\n",
    "Y_med_lineal=calibracion_lineal.predict(X_med)\n",
    "Y_med_poly=p(X_med)\n",
    "plt.plot(X_med,Y_med_poly)\n",
    "plt.plot(X_med,Y_med_lineal)\n"
   ]
  },
  {
   "cell_type": "code",
   "execution_count": 495,
   "metadata": {},
   "outputs": [],
   "source": [
    "DF_HvsR_poly=pd.DataFrame()\n",
    "DF_HvsR_poly['Voltaje(V)']=pd.DataFrame(X_med)\n",
    "DF_HvsR_poly['Campo(Oe)']=pd.DataFrame(Y_med_poly)\n",
    "DF_HvsR_poly['Resistencia(Ohm)']=pd.DataFrame(medicion['Resistencia(Ohm)'])\n",
    "salida_poly=directorio_medicion+'/'+'V_H_R_poly'+archivo_medicion\n",
    "DF_HvsR_poly.to_csv(salida_poly)"
   ]
  },
  {
   "cell_type": "code",
   "execution_count": 508,
   "metadata": {},
   "outputs": [],
   "source": [
    "DF_HvsR_lineal=pd.DataFrame()\n",
    "DF_HvsR_lineal['Voltaje(V)']=pd.DataFrame(X_med)\n",
    "DF_HvsR_lineal['Campo(Oe)']=pd.DataFrame(Y_med_lineal)\n",
    "DF_HvsR_lineal['Resistencia(Ohm)']=pd.DataFrame(medicion['Resistencia(Ohm)'])\n",
    "salida_lineal=directorio_medicion+'/'+'V_H_R_lineal'+archivo_medicion\n",
    "DF_HvsR_poly.to_csv(salida_lineal)"
   ]
  },
  {
   "cell_type": "code",
   "execution_count": 510,
   "metadata": {},
   "outputs": [
    {
     "data": {
      "text/plain": [
       "Text(0.5, 0, 'Campo (oe)')"
      ]
     },
     "execution_count": 510,
     "metadata": {},
     "output_type": "execute_result"
    }
   ],
   "source": [
    "plt.figure('H vs R')\n",
    "plt.plot(Y_med_poly,medicion['Resistencia(Ohm)'])\n",
    "plt.ylabel('Resistencia (Ohm)')\n",
    "plt.xlabel('Campo (Oe)')"
   ]
  }
 ],
 "metadata": {
  "kernelspec": {
   "display_name": "Python 3",
   "language": "python",
   "name": "python3"
  },
  "language_info": {
   "codemirror_mode": {
    "name": "ipython",
    "version": 3
   },
   "file_extension": ".py",
   "mimetype": "text/x-python",
   "name": "python",
   "nbconvert_exporter": "python",
   "pygments_lexer": "ipython3",
   "version": "3.6.4"
  }
 },
 "nbformat": 4,
 "nbformat_minor": 5
}
